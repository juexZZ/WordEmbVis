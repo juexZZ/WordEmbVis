{
 "cells": [
  {
   "cell_type": "markdown",
   "metadata": {},
   "source": [
    "# Shows how we obtain the factor groups"
   ]
  },
  {
   "cell_type": "markdown",
   "metadata": {},
   "source": [
    "Assume we have obtained the factors and the factor cooccurrence matrix (see another notebook for details), compute the coocurrence weight matrix, and perform spcetral clustering"
   ]
  },
  {
   "cell_type": "markdown",
   "metadata": {},
   "source": [
    "## Obtain cluster labels"
   ]
  },
  {
   "cell_type": "code",
   "execution_count": 3,
   "metadata": {},
   "outputs": [],
   "source": [
    "import numpy as np\n",
    "import matplotlib.pyplot as plt\n",
    "import torch"
   ]
  },
  {
   "cell_type": "code",
   "execution_count": 4,
   "metadata": {},
   "outputs": [],
   "source": [
    "exp_dir = \"./results/glove-text8-reproduce-1k-factors/\""
   ]
  },
  {
   "cell_type": "code",
   "execution_count": 5,
   "metadata": {},
   "outputs": [],
   "source": [
    "cooc_mat = np.load(exp_dir+\"nmed_factor_cooc.npy\")"
   ]
  },
  {
   "cell_type": "code",
   "execution_count": 6,
   "metadata": {},
   "outputs": [
    {
     "data": {
      "text/plain": [
       "(1000, 1000)"
      ]
     },
     "execution_count": 6,
     "metadata": {},
     "output_type": "execute_result"
    }
   ],
   "source": [
    "cooc_mat.shape"
   ]
  },
  {
   "cell_type": "code",
   "execution_count": 7,
   "metadata": {},
   "outputs": [],
   "source": [
    "# set diagonal to 0's\n",
    "n_factors = cooc_mat.shape[0]\n",
    "dia = np.eye(n_factors)\n",
    "fac_cooc = cooc_mat-dia*cooc_mat.diagonal()"
   ]
  },
  {
   "cell_type": "code",
   "execution_count": 8,
   "metadata": {},
   "outputs": [],
   "source": [
    "# sparsify using k nearest neighbors\n",
    "knn=20\n",
    "knn_ids = np.argsort(fac_cooc, axis=1)[:,-knn:]\n",
    "sp_cooc = np.zeros(fac_cooc.shape)\n",
    "for i in range(sp_cooc.shape[0]):\n",
    "    sp_cooc[i,knn_ids[i]] = fac_cooc[i,knn_ids[i]]\n",
    "sp_cooc = sp_cooc+sp_cooc.T\n"
   ]
  },
  {
   "cell_type": "code",
   "execution_count": 9,
   "metadata": {},
   "outputs": [],
   "source": [
    "# Ng and Jordan\n",
    "# L sym\n",
    "from sklearn.cluster import spectral_clustering\n",
    "sym_labels = spectral_clustering(sp_cooc, n_clusters=175, n_components=None,\n",
    "                        eigen_solver=None, random_state=None, n_init=10,\n",
    "                        eigen_tol=0.0, assign_labels='kmeans')"
   ]
  },
  {
   "cell_type": "code",
   "execution_count": 11,
   "metadata": {},
   "outputs": [],
   "source": [
    "np.save(exp_dir+'sym_labels_knn20_c175.npy', sym_labels) # w2vsg"
   ]
  },
  {
   "cell_type": "markdown",
   "metadata": {},
   "source": [
    "## Factor Group Visualization\n",
    "\n",
    "switch to `WordFactor_reproduce.ipynb`"
   ]
  },
  {
   "cell_type": "code",
   "execution_count": null,
   "metadata": {},
   "outputs": [],
   "source": []
  }
 ],
 "metadata": {
  "kernelspec": {
   "display_name": "Python 3",
   "language": "python",
   "name": "python3"
  },
  "language_info": {
   "codemirror_mode": {
    "name": "ipython",
    "version": 3
   },
   "file_extension": ".py",
   "mimetype": "text/x-python",
   "name": "python",
   "nbconvert_exporter": "python",
   "pygments_lexer": "ipython3",
   "version": "3.7.3"
  }
 },
 "nbformat": 4,
 "nbformat_minor": 2
}
